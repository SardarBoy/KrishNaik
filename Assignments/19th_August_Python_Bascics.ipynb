{
 "cells": [
  {
   "cell_type": "code",
   "execution_count": 7,
   "id": "137f95c3-1fb3-4c47-9f8d-53b819cf3e61",
   "metadata": {},
   "outputs": [
    {
     "name": "stdout",
     "output_type": "stream",
     "text": [
      "new a 123\n",
      "new b 52\n"
     ]
    }
   ],
   "source": [
    "#1st question\n",
    "a=52\n",
    "b=123\n",
    "a=a+b\n",
    "b=a-b\n",
    "a=a-b\n",
    "print(\"new a\",a)\n",
    "print(\"new b\",b)"
   ]
  },
  {
   "cell_type": "code",
   "execution_count": 9,
   "id": "a558c591-0498-45ad-8f55-744230074cda",
   "metadata": {},
   "outputs": [
    {
     "name": "stdin",
     "output_type": "stream",
     "text": [
      " 5\n",
      " 10\n"
     ]
    },
    {
     "name": "stdout",
     "output_type": "stream",
     "text": [
      "50\n"
     ]
    }
   ],
   "source": [
    "#2nd question\n",
    "l=int(input())\n",
    "b=int(input())\n",
    "area = l*b\n",
    "print(area)"
   ]
  },
  {
   "cell_type": "code",
   "execution_count": 10,
   "id": "c1ae304a-893c-445b-bc14-ca0e7dfbfe3d",
   "metadata": {},
   "outputs": [
    {
     "name": "stdin",
     "output_type": "stream",
     "text": [
      " 100\n"
     ]
    },
    {
     "name": "stdout",
     "output_type": "stream",
     "text": [
      "212.0\n"
     ]
    }
   ],
   "source": [
    "#3rd question\n",
    "c= int(input())\n",
    "f= (c*1.8) + 32\n",
    "print(f)"
   ]
  },
  {
   "cell_type": "markdown",
   "id": "182e66e4-40ba-4d38-9294-99c73a5135bc",
   "metadata": {},
   "source": [
    "String Based Questions"
   ]
  },
  {
   "cell_type": "code",
   "execution_count": 12,
   "id": "42d0b7a6-9789-4087-a4e5-36d2abbeacd0",
   "metadata": {},
   "outputs": [
    {
     "name": "stdin",
     "output_type": "stream",
     "text": [
      " gurtej\n"
     ]
    },
    {
     "name": "stdout",
     "output_type": "stream",
     "text": [
      "6\n"
     ]
    }
   ],
   "source": [
    "#1st question\n",
    "strr= input()\n",
    "print(len(strr))\n"
   ]
  },
  {
   "cell_type": "code",
   "execution_count": 18,
   "id": "f6f1f643-1aa7-45d3-b8b2-6504b1585997",
   "metadata": {},
   "outputs": [
    {
     "name": "stdin",
     "output_type": "stream",
     "text": [
      " gurtej\n"
     ]
    },
    {
     "name": "stdout",
     "output_type": "stream",
     "text": [
      "['g', 'u', 'r', 't', 'e', 'j']\n",
      "2\n"
     ]
    }
   ],
   "source": [
    "#2nd question\n",
    "strr= input()\n",
    "li=list(strr)\n",
    "count=0\n",
    "for i in li:\n",
    "    if i in ('a','e','i','o','u'):\n",
    "        count+=1\n",
    "print(count)"
   ]
  },
  {
   "cell_type": "code",
   "execution_count": 19,
   "id": "508361eb-9466-4611-b8fd-343481b1d1d5",
   "metadata": {},
   "outputs": [
    {
     "name": "stdin",
     "output_type": "stream",
     "text": [
      " gurtej\n"
     ]
    },
    {
     "name": "stdout",
     "output_type": "stream",
     "text": [
      "jetrug\n"
     ]
    }
   ],
   "source": [
    "#3rd question\n",
    "strr= input()\n",
    "print(strr[::-1])"
   ]
  },
  {
   "cell_type": "code",
   "execution_count": 23,
   "id": "f0c36361-a622-4869-b129-708330746998",
   "metadata": {},
   "outputs": [
    {
     "name": "stdin",
     "output_type": "stream",
     "text": [
      " aabaa\n"
     ]
    },
    {
     "name": "stdout",
     "output_type": "stream",
     "text": [
      "pallindrome\n"
     ]
    }
   ],
   "source": [
    "#4th question\n",
    "strr= input()\n",
    "newstrr= strr[::-1]\n",
    "if strr== newstrr:\n",
    "    print(\"pallindrome\")\n",
    "else:\n",
    "    print(\"not pallindrome\")"
   ]
  },
  {
   "cell_type": "code",
   "execution_count": 31,
   "id": "677d59d9-1b45-4824-9cec-3312f9f1cb43",
   "metadata": {},
   "outputs": [
    {
     "name": "stdin",
     "output_type": "stream",
     "text": [
      "               spaces remo ved  \n"
     ]
    },
    {
     "name": "stdout",
     "output_type": "stream",
     "text": [
      "spacesremoved\n"
     ]
    }
   ],
   "source": [
    "#5th question\n",
    "strr= input()\n",
    "print(strr.replace(\" \",\"\"))"
   ]
  },
  {
   "cell_type": "code",
   "execution_count": null,
   "id": "3499928d-8882-4c31-b3c1-c4c184b8e49e",
   "metadata": {},
   "outputs": [],
   "source": []
  }
 ],
 "metadata": {
  "kernelspec": {
   "display_name": "Python 3 (ipykernel)",
   "language": "python",
   "name": "python3"
  },
  "language_info": {
   "codemirror_mode": {
    "name": "ipython",
    "version": 3
   },
   "file_extension": ".py",
   "mimetype": "text/x-python",
   "name": "python",
   "nbconvert_exporter": "python",
   "pygments_lexer": "ipython3",
   "version": "3.10.8"
  }
 },
 "nbformat": 4,
 "nbformat_minor": 5
}
