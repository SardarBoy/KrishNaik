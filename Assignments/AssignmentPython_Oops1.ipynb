{
 "cells": [
  {
   "cell_type": "code",
   "execution_count": 10,
   "id": "6b0c6293-df91-4bab-ba7c-1a95b3283a8a",
   "metadata": {},
   "outputs": [],
   "source": [
    "class BankAccount:\n",
    "    def __init__(self, account_number, account_holder, balance=0):\n",
    "        self.account_number = account_number\n",
    "        self.account_holder = account_holder\n",
    "        self.balance = balance\n",
    "\n",
    "    def deposit(self, amount):\n",
    "        self.balance += amount\n",
    "\n",
    "    def withdraw(self, amount):\n",
    "        if amount <= self.balance:\n",
    "            self.balance -= amount\n",
    "        else:\n",
    "            print(\"Insufficient balance.\")\n",
    "account = BankAccount(\"12345\", \"John Doe\")\n",
    "account.deposit(1000)\n",
    "account.withdraw(500)\n",
    "\n"
   ]
  },
  {
   "cell_type": "code",
   "execution_count": 6,
   "id": "e72c7ea4-8cd0-468c-a527-a705faa3f50d",
   "metadata": {},
   "outputs": [
    {
     "name": "stdout",
     "output_type": "stream",
     "text": [
      "Employee ID: 1\n",
      "Name: Alice\n",
      "Salary: $50000\n",
      "Yearly Bonus: $5000.0\n"
     ]
    }
   ],
   "source": [
    "class Employee:\n",
    "    def __init__(self, employee_id, name, salary):\n",
    "        self.employee_id = employee_id\n",
    "        self.name = name\n",
    "        self.salary = salary\n",
    "\n",
    "    def calculate_bonus(self, bonus_percentage):\n",
    "        return (bonus_percentage / 100) * self.salary\n",
    "\n",
    "    def display_details(self):\n",
    "        print(f\"Employee ID: {self.employee_id}\")\n",
    "        print(f\"Name: {self.name}\")\n",
    "        print(f\"Salary: ${self.salary}\")\n",
    "\n",
    "# Example usage:\n",
    "employee = Employee(1, \"Alice\", 50000)\n",
    "bonus = employee.calculate_bonus(10)\n",
    "employee.display_details()\n",
    "print(f\"Yearly Bonus: ${bonus}\")\n"
   ]
  },
  {
   "cell_type": "code",
   "execution_count": 11,
   "id": "2a6fce6f-74f6-4d12-b7d5-d4c68c2be4f8",
   "metadata": {},
   "outputs": [
    {
     "name": "stdout",
     "output_type": "stream",
     "text": [
      "Rented: Car\n",
      "Available Vehicles:\n",
      "Motorcycle\n",
      "Bicycle\n",
      "None\n"
     ]
    }
   ],
   "source": [
    "class VehicleRental:\n",
    "    def __init__(self):\n",
    "        self.available_vehicles = []\n",
    "\n",
    "    def rent_vehicle(self, vehicle):\n",
    "        if vehicle in self.available_vehicles:\n",
    "            self.available_vehicles.remove(vehicle)\n",
    "            return f\"Rented: {vehicle}\"\n",
    "        else:\n",
    "            return \"Vehicle not available.\"\n",
    "\n",
    "    def return_vehicle(self, vehicle):\n",
    "        self.available_vehicles.append(vehicle)\n",
    "        return f\"Returned: {vehicle}\"\n",
    "\n",
    "    def display_available_vehicles(self):\n",
    "        print(\"Available Vehicles:\")\n",
    "        for vehicle in self.available_vehicles:\n",
    "            print(vehicle)\n",
    "\n",
    "# Example usage:\n",
    "rental = VehicleRental()\n",
    "rental.available_vehicles = [\"Car\", \"Motorcycle\", \"Bicycle\"]\n",
    "print(rental.rent_vehicle(\"Car\"))\n",
    "print(rental.display_available_vehicles())\n"
   ]
  },
  {
   "cell_type": "code",
   "execution_count": 12,
   "id": "595f7202-7002-4554-b319-e9a61734d928",
   "metadata": {},
   "outputs": [
    {
     "name": "stdout",
     "output_type": "stream",
     "text": [
      "Borrowed: Harry Potter\n",
      "Available Books:\n",
      "To Kill a Mockingbird by Harper Lee\n",
      "None\n"
     ]
    }
   ],
   "source": [
    "class Book:\n",
    "    def __init__(self, title, author):\n",
    "        self.title = title\n",
    "        self.author = author\n",
    "        self.available = True\n",
    "\n",
    "class LibraryCatalog:\n",
    "    def __init__(self):\n",
    "        self.books = []\n",
    "\n",
    "    def add_book(self, book):\n",
    "        self.books.append(book)\n",
    "\n",
    "    def borrow_book(self, title):\n",
    "        for book in self.books:\n",
    "            if book.title == title and book.available:\n",
    "                book.available = False\n",
    "                return f\"Borrowed: {title}\"\n",
    "        return \"Book not available.\"\n",
    "\n",
    "    def display_available_books(self):\n",
    "        print(\"Available Books:\")\n",
    "        for book in self.books:\n",
    "            if book.available:\n",
    "                print(f\"{book.title} by {book.author}\")\n",
    "\n",
    "# Example usage:\n",
    "catalog = LibraryCatalog()\n",
    "book1 = Book(\"Harry Potter\", \"J.K. Rowling\")\n",
    "book2 = Book(\"To Kill a Mockingbird\", \"Harper Lee\")\n",
    "catalog.add_book(book1)\n",
    "catalog.add_book(book2)\n",
    "print(catalog.borrow_book(\"Harry Potter\"))\n",
    "print(catalog.display_available_books())\n"
   ]
  },
  {
   "cell_type": "code",
   "execution_count": 13,
   "id": "a45a5dbd-2d42-459d-bf34-7429d3a436e2",
   "metadata": {},
   "outputs": [
    {
     "name": "stdout",
     "output_type": "stream",
     "text": [
      "Updated quantity of Laptop to 5\n",
      "Available Products:\n",
      "Laptop - Price: $800 - Quantity: 5\n",
      "Phone - Price: $400 - Quantity: 20\n",
      "None\n"
     ]
    }
   ],
   "source": [
    "class Product:\n",
    "    def __init__(self, name, price, quantity):\n",
    "        self.name = name\n",
    "        self.price = price\n",
    "        self.quantity = quantity\n",
    "\n",
    "class Inventory:\n",
    "    def __init__(self):\n",
    "        self.products = []\n",
    "\n",
    "    def add_product(self, product):\n",
    "        self.products.append(product)\n",
    "\n",
    "    def update_quantity(self, product_name, new_quantity):\n",
    "        for product in self.products:\n",
    "            if product.name == product_name:\n",
    "                product.quantity = new_quantity\n",
    "                return f\"Updated quantity of {product_name} to {new_quantity}\"\n",
    "        return \"Product not found.\"\n",
    "\n",
    "    def display_available_products(self):\n",
    "        print(\"Available Products:\")\n",
    "        for product in self.products:\n",
    "            print(f\"{product.name} - Price: ${product.price} - Quantity: {product.quantity}\")\n",
    "\n",
    "# Example usage:\n",
    "inventory = Inventory()\n",
    "product1 = Product(\"Laptop\", 800, 10)\n",
    "product2 = Product(\"Phone\", 400, 20)\n",
    "inventory.add_product(product1)\n",
    "inventory.add_product(product2)\n",
    "print(inventory.update_quantity(\"Laptop\", 5))\n",
    "print(inventory.display_available_products())\n"
   ]
  },
  {
   "cell_type": "code",
   "execution_count": 14,
   "id": "cc8a83d6-4bea-4023-8652-5c192cdcf70d",
   "metadata": {},
   "outputs": [
    {
     "name": "stdout",
     "output_type": "stream",
     "text": [
      "Area: 20\n",
      "Perimeter: 18\n"
     ]
    }
   ],
   "source": [
    "class Shape:\n",
    "    def __init__(self, length, width, height):\n",
    "        self.length = length\n",
    "        self.width = width\n",
    "        self.height = height\n",
    "\n",
    "    def calculate_area(self):\n",
    "        pass\n",
    "\n",
    "    def calculate_perimeter(self):\n",
    "        pass\n",
    "\n",
    "class Rectangle(Shape):\n",
    "    def calculate_area(self):\n",
    "        return self.length * self.width\n",
    "\n",
    "    def calculate_perimeter(self):\n",
    "        return 2 * (self.length + self.width)\n",
    "\n",
    "# Example usage:\n",
    "rectangle = Rectangle(5, 4, 0)\n",
    "print(f\"Area: {rectangle.calculate_area()}\")\n",
    "print(f\"Perimeter: {rectangle.calculate_perimeter()}\")\n"
   ]
  },
  {
   "cell_type": "code",
   "execution_count": 15,
   "id": "b4d8d3d5-1831-4c00-aa35-4a9899fe1f1f",
   "metadata": {},
   "outputs": [
    {
     "name": "stdout",
     "output_type": "stream",
     "text": [
      "Student ID: 1\n",
      "Name: Alice\n",
      "Grades: 85, 92, 78, 90\n",
      "Average Grade: 86.25\n"
     ]
    }
   ],
   "source": [
    "class Student:\n",
    "    def __init__(self, student_id, name, grades):\n",
    "        self.student_id = student_id\n",
    "        self.name = name\n",
    "        self.grades = grades\n",
    "\n",
    "    def calculate_average_grade(self):\n",
    "        return sum(self.grades) / len(self.grades)\n",
    "\n",
    "    def display_details(self):\n",
    "        print(f\"Student ID: {self.student_id}\")\n",
    "        print(f\"Name: {self.name}\")\n",
    "        print(f\"Grades: {', '.join(map(str, self.grades))}\")\n",
    "\n",
    "# Example usage:\n",
    "student = Student(1, \"Alice\", [85, 92, 78, 90])\n",
    "average_grade = student.calculate_average_grade()\n",
    "student.display_details()\n",
    "print(f\"Average Grade: {average_grade}\")\n"
   ]
  },
  {
   "cell_type": "code",
   "execution_count": 16,
   "id": "75abf8f0-f9fd-480d-8fdf-9425ce630b5c",
   "metadata": {},
   "outputs": [
    {
     "name": "stdout",
     "output_type": "stream",
     "text": [
      "From: john@example.com\n",
      "To: jane@example.com\n",
      "Subject: Meeting Update\n",
      "Message: Hi Jane, the meeting has been rescheduled to 3 PM.\n"
     ]
    }
   ],
   "source": [
    "class Email:\n",
    "    def __init__(self, sender, recipient, subject):\n",
    "        self.sender = sender\n",
    "        self.recipient = recipient\n",
    "        self.subject = subject\n",
    "\n",
    "    def send_email(self, message):\n",
    "        print(f\"From: {self.sender}\")\n",
    "        print(f\"To: {self.recipient}\")\n",
    "        print(f\"Subject: {self.subject}\")\n",
    "        print(f\"Message: {message}\")\n",
    "\n",
    "# Example usage:\n",
    "email = Email(\"john@example.com\", \"jane@example.com\", \"Meeting Update\")\n",
    "email.send_email(\"Hi Jane, the meeting has been rescheduled to 3 PM.\")\n"
   ]
  },
  {
   "cell_type": "code",
   "execution_count": 17,
   "id": "c9760986-6c86-41b4-82d1-fec12048d427",
   "metadata": {},
   "outputs": [
    {
     "name": "stdout",
     "output_type": "stream",
     "text": [
      "From: john@example.com\n",
      "To: jane@example.com\n",
      "Subject: Meeting Update\n",
      "Message: Hi Jane, the meeting has been rescheduled to 3 PM.\n"
     ]
    }
   ],
   "source": [
    "class Email:\n",
    "    def __init__(self, sender, recipient, subject):\n",
    "        self.sender = sender\n",
    "        self.recipient = recipient\n",
    "        self.subject = subject\n",
    "\n",
    "    def send_email(self, message):\n",
    "        print(f\"From: {self.sender}\")\n",
    "        print(f\"To: {self.recipient}\")\n",
    "        print(f\"Subject: {self.subject}\")\n",
    "        print(f\"Message: {message}\")\n",
    "\n",
    "# Example usage:\n",
    "email = Email(\"john@example.com\", \"jane@example.com\", \"Meeting Update\")\n",
    "email.send_email(\"Hi Jane, the meeting has been rescheduled to 3 PM.\")\n"
   ]
  },
  {
   "cell_type": "code",
   "execution_count": 18,
   "id": "fae7bbbf-39ab-4b79-89b8-706a248332cf",
   "metadata": {},
   "outputs": [
    {
     "name": "stdout",
     "output_type": "stream",
     "text": [
      "Posts for johndoe\n",
      "Enjoying a beautiful day!\n",
      "Traveling to new places.\n",
      "Search results: []\n"
     ]
    }
   ],
   "source": [
    "class SocialMediaProfile:\n",
    "    def __init__(self, username):\n",
    "        self.username = username\n",
    "        self.posts = []\n",
    "\n",
    "    def add_post(self, post):\n",
    "        self.posts.append(post)\n",
    "\n",
    "    def display_posts(self):\n",
    "        print(\"Posts for\", self.username)\n",
    "        for post in self.posts:\n",
    "            print(post)\n",
    "\n",
    "    def search_posts(self, keyword):\n",
    "        result = [post for post in self.posts if keyword in post]\n",
    "        return result\n",
    "\n",
    "# Example usage:\n",
    "profile = SocialMediaProfile(\"johndoe\")\n",
    "profile.add_post(\"Enjoying a beautiful day!\")\n",
    "profile.add_post(\"Traveling to new places.\")\n",
    "profile.display_posts()\n",
    "search_result = profile.search_posts(\"travel\")\n",
    "print(\"Search results:\", search_result)\n"
   ]
  },
  {
   "cell_type": "code",
   "execution_count": 19,
   "id": "f1511ae3-d591-4c9a-a1e0-87ce9e894c70",
   "metadata": {},
   "outputs": [
    {
     "name": "stdout",
     "output_type": "stream",
     "text": [
      "Pending Tasks:\n",
      "Finish report\n",
      "Go to the gym\n"
     ]
    }
   ],
   "source": [
    "class ToDoList:\n",
    "    def __init__(self):\n",
    "        self.tasks = []\n",
    "\n",
    "    def add_task(self, task):\n",
    "        self.tasks.append(task)\n",
    "\n",
    "    def mark_task_as_completed(self, task):\n",
    "        if task in self.tasks:\n",
    "            self.tasks.remove(task)\n",
    "\n",
    "    def display_pending_tasks(self):\n",
    "        print(\"Pending Tasks:\")\n",
    "        for task in self.tasks:\n",
    "            print(task)\n",
    "\n",
    "# Example usage:\n",
    "todo_list = ToDoList()\n",
    "todo_list.add_task(\"Buy groceries\")\n",
    "todo_list.add_task(\"Finish report\")\n",
    "todo_list.add_task(\"Go to the gym\")\n",
    "todo_list.mark_task_as_completed(\"Buy groceries\")\n",
    "todo_list.display_pending_tasks()\n"
   ]
  },
  {
   "cell_type": "code",
   "execution_count": null,
   "id": "0403169e-49f8-4f30-a7f4-a67135e1e24d",
   "metadata": {},
   "outputs": [],
   "source": []
  }
 ],
 "metadata": {
  "kernelspec": {
   "display_name": "Python 3 (ipykernel)",
   "language": "python",
   "name": "python3"
  },
  "language_info": {
   "codemirror_mode": {
    "name": "ipython",
    "version": 3
   },
   "file_extension": ".py",
   "mimetype": "text/x-python",
   "name": "python",
   "nbconvert_exporter": "python",
   "pygments_lexer": "ipython3",
   "version": "3.10.8"
  }
 },
 "nbformat": 4,
 "nbformat_minor": 5
}
