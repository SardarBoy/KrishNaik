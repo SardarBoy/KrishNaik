{
 "cells": [
  {
   "cell_type": "code",
   "execution_count": 1,
   "id": "47d117b8-37a7-4de9-8784-7cc67f2e8b2e",
   "metadata": {},
   "outputs": [
    {
     "name": "stdout",
     "output_type": "stream",
     "text": [
      "Collecting Flask\n",
      "  Downloading flask-3.0.0-py3-none-any.whl (99 kB)\n",
      "\u001b[2K     \u001b[90m━━━━━━━━━━━━━━━━━━━━━━━━━━━━━━━━━━━━━━━━\u001b[0m \u001b[32m99.7/99.7 kB\u001b[0m \u001b[31m3.7 MB/s\u001b[0m eta \u001b[36m0:00:00\u001b[0m\n",
      "\u001b[?25hCollecting itsdangerous>=2.1.2\n",
      "  Downloading itsdangerous-2.1.2-py3-none-any.whl (15 kB)\n",
      "Requirement already satisfied: click>=8.1.3 in /opt/conda/lib/python3.10/site-packages (from Flask) (8.1.3)\n",
      "Requirement already satisfied: Jinja2>=3.1.2 in /opt/conda/lib/python3.10/site-packages (from Flask) (3.1.2)\n",
      "Collecting blinker>=1.6.2\n",
      "  Downloading blinker-1.6.3-py3-none-any.whl (13 kB)\n",
      "Collecting Werkzeug>=3.0.0\n",
      "  Downloading werkzeug-3.0.1-py3-none-any.whl (226 kB)\n",
      "\u001b[2K     \u001b[90m━━━━━━━━━━━━━━━━━━━━━━━━━━━━━━━━━━━━━━\u001b[0m \u001b[32m226.7/226.7 kB\u001b[0m \u001b[31m24.0 MB/s\u001b[0m eta \u001b[36m0:00:00\u001b[0m\n",
      "\u001b[?25hRequirement already satisfied: MarkupSafe>=2.0 in /opt/conda/lib/python3.10/site-packages (from Jinja2>=3.1.2->Flask) (2.1.1)\n",
      "Installing collected packages: Werkzeug, itsdangerous, blinker, Flask\n",
      "  Attempting uninstall: blinker\n",
      "    Found existing installation: blinker 1.5\n",
      "    Uninstalling blinker-1.5:\n",
      "      Successfully uninstalled blinker-1.5\n",
      "Successfully installed Flask-3.0.0 Werkzeug-3.0.1 blinker-1.6.3 itsdangerous-2.1.2\n",
      "Note: you may need to restart the kernel to use updated packages.\n"
     ]
    }
   ],
   "source": [
    "pip install Flask"
   ]
  },
  {
   "cell_type": "code",
   "execution_count": null,
   "id": "2325023a-26ac-47ae-b05f-d90848fcf4ca",
   "metadata": {},
   "outputs": [
    {
     "name": "stdout",
     "output_type": "stream",
     "text": [
      " * Serving Flask app '__main__'\n",
      " * Debug mode: off\n"
     ]
    },
    {
     "name": "stderr",
     "output_type": "stream",
     "text": [
      "WARNING: This is a development server. Do not use it in a production deployment. Use a production WSGI server instead.\n",
      " * Running on http://127.0.0.1:5000\n",
      "Press CTRL+C to quit\n"
     ]
    }
   ],
   "source": [
    "from flask import Flask\n",
    "\n",
    "app = Flask(__name__)\n",
    "\n",
    "@app.route('/')\n",
    "def hello_world():\n",
    "    return 'Hello, World!'\n",
    "\n",
    "if __name__ == '__main__':\n",
    "    app.run()\n"
   ]
  },
  {
   "cell_type": "code",
   "execution_count": null,
   "id": "f302bf1f-16b5-4a68-90b2-d37df845b6a3",
   "metadata": {},
   "outputs": [],
   "source": [
    "#2\n",
    "from flask import Flask, render_template\n",
    "\n",
    "app = Flask(__name)\n",
    "\n",
    "@app.route('/')\n",
    "def home():\n",
    "    return render_template('home.html')\n",
    "\n",
    "@app.route('/about')\n",
    "def about():\n",
    "    return render_template('about.html')\n",
    "\n",
    "if __name__ == '__main':\n",
    "    app.run()\n"
   ]
  },
  {
   "cell_type": "code",
   "execution_count": null,
   "id": "5d3f7e16-6835-4971-ba26-5efd8cf81a2c",
   "metadata": {},
   "outputs": [],
   "source": [
    "#3\n",
    "from flask import Flask, render_template\n",
    "\n",
    "app = Flask(__name)\n",
    "\n",
    "@app.route('/greet/<name>')\n",
    "def greet(name):\n",
    "    return render_template('greet.html', name=name)\n",
    "\n",
    "if __name__ == '__main':\n",
    "    app.run()\n"
   ]
  },
  {
   "cell_type": "code",
   "execution_count": null,
   "id": "1082561a-68e3-421b-9afd-1aa37f22907b",
   "metadata": {},
   "outputs": [],
   "source": [
    "#4\n",
    "from flask import Flask, render_template, request\n",
    "\n",
    "app = Flask(__name)\n",
    "\n",
    "@app.route('/', methods=['GET', 'POST'])\n",
    "def form_example():\n",
    "    if request.method == 'POST':\n",
    "        user_input = request.form['user_input']\n",
    "        return f'You entered: {user_input}'\n",
    "    return render_template('form.html')\n",
    "\n",
    "if __name__ == '__main':\n",
    "    app.run()\n"
   ]
  },
  {
   "cell_type": "code",
   "execution_count": null,
   "id": "5bace4ab-d606-4c35-b1d3-4c0ef45a78a7",
   "metadata": {},
   "outputs": [],
   "source": [
    "#5\n",
    "from flask import Flask, render_template, request, session, redirect, url_for\n",
    "\n",
    "app = Flask(__name)\n",
    "app.secret_key = 'your_secret_key'\n",
    "\n",
    "@app.route('/')\n",
    "def home():\n",
    "    if 'username' in session:\n",
    "        return f'Hello, {session[\"username\"]}!'\n",
    "    return 'Welcome, Guest!'\n",
    "\n",
    "@app.route('/login', methods=['GET', 'POST'])\n",
    "def login():\n",
    "    if request.method == 'POST':\n",
    "        session['username'] = request.form['username']\n",
    "        return redirect(url_for('home'))\n",
    "    return render_template('login.html')\n",
    "\n",
    "@app.route('/logout')\n",
    "def logout():\n",
    "    session.pop('username', None)\n",
    "    return redirect(url_for('home'))\n",
    "\n",
    "if __name__ == '__main':\n",
    "    app.run()\n"
   ]
  },
  {
   "cell_type": "code",
   "execution_count": null,
   "id": "a0cfe14e-9f0e-482d-ab7e-c434bff8a770",
   "metadata": {},
   "outputs": [],
   "source": [
    "#6\n",
    "from flask import Flask, render_template, request, redirect, url_for\n",
    "import os\n",
    "\n",
    "app = Flask(__name)\n",
    "app.config['UPLOAD_FOLDER'] = 'uploads'\n",
    "\n",
    "if not os.path.exists(app.config['UPLOAD_FOLDER']):\n",
    "    os.makedirs(app.config['UPLOAD_FOLDER'])\n",
    "\n",
    "@app.route('/')\n",
    "def index():\n",
    "    return render_template('index.html')\n",
    "\n",
    "@app.route('/upload', methods=['POST'])\n",
    "def upload_file():\n",
    "    if 'file' not in request.files:\n",
    "        return redirect(request.url)\n",
    "\n",
    "    file = request.files['file']\n",
    "    if file.filename == '':\n",
    "        return redirect(request.url)\n",
    "\n",
    "    if file:\n",
    "        filename = os.path.join(app.config['UPLOAD_FOLDER'], file.filename)\n",
    "        file.save(filename)\n",
    "        return f'File \"{file.filename}\" uploaded successfully.'\n",
    "\n",
    "if __name__ == '__main__':\n",
    "    app.run()\n"
   ]
  },
  {
   "cell_type": "code",
   "execution_count": null,
   "id": "338d5635-7fa2-4cbb-b61c-798dc54ecf22",
   "metadata": {},
   "outputs": [],
   "source": [
    "#7\n",
    "from flask import Flask, render_template, request, redirect, url_for\n",
    "from flask_sqlalchemy import SQLAlchemy\n",
    "\n",
    "app = Flask(__name)\n",
    "app.config['SQLALCHEMY_DATABASE_URI'] = 'sqlite:///items.db'\n",
    "db = SQLAlchemy(app)\n",
    "\n",
    "class Item(db.Model):\n",
    "    id = db.Column(db.Integer, primary_key=True)\n",
    "    name = db.Column(db.String(100), nullable=False)\n",
    "\n",
    "@app.route('/')\n",
    "def index():\n",
    "    items = Item.query.all()\n",
    "    return render_template('index.html', items=items)\n",
    "\n",
    "@app.route('/add', methods=['POST'])\n",
    "def add_item():\n",
    "    if request.method == 'POST':\n",
    "        name = request.form['name']\n",
    "        new_item = Item(name=name)\n",
    "        db.session.add(new_item)\n",
    "        db.session.commit()\n",
    "        return redirect(url_for('index'))\n",
    "\n",
    "if __name__ == '__main__':\n",
    "    db.create_all()\n",
    "    app.run()\n"
   ]
  },
  {
   "cell_type": "code",
   "execution_count": null,
   "id": "519a83f0-5f88-46bb-aa01-00118ea9ed11",
   "metadata": {},
   "outputs": [],
   "source": [
    "#8\n",
    "from flask import Flask, request, jsonify\n",
    "\n",
    "app = Flask(__name)\n",
    "books = []\n",
    "\n",
    "@app.route('/books', methods=['GET'])\n",
    "def get_books():\n",
    "    return jsonify({'books': books})\n",
    "\n",
    "@app.route('/books/<int:id>', methods=['GET'])\n",
    "def get_book(id):\n",
    "    if id < len(books):\n",
    "        return jsonify({'book': books[id]})\n",
    "    return 'Book not found', 404\n",
    "\n",
    "@app.route('/books', methods=['POST'])\n",
    "def create_book():\n",
    "    data = request.get_json()\n",
    "    books.append(data)\n",
    "    return 'Book created', 201\n",
    "\n",
    "@app.route('/books/<int:id>', methods=['PUT'])\n",
    "def update_book(id):\n",
    "    data = request.get_json()\n",
    "    if id < len(books):\n",
    "        books[id] = data\n",
    "        return 'Book updated'\n",
    "    return 'Book not found', 404\n",
    "\n",
    "@app.route('/books/<int:id>', methods=['DELETE'])\n",
    "def delete_book(id):\n",
    "    if id < len(books):\n",
    "        del books[id]\n",
    "        return 'Book deleted'\n",
    "    return 'Book not found', 404\n",
    "\n",
    "if __name__ == '__main__':\n",
    "    app.run()\n"
   ]
  }
 ],
 "metadata": {
  "kernelspec": {
   "display_name": "Python 3 (ipykernel)",
   "language": "python",
   "name": "python3"
  },
  "language_info": {
   "codemirror_mode": {
    "name": "ipython",
    "version": 3
   },
   "file_extension": ".py",
   "mimetype": "text/x-python",
   "name": "python",
   "nbconvert_exporter": "python",
   "pygments_lexer": "ipython3",
   "version": "3.10.8"
  }
 },
 "nbformat": 4,
 "nbformat_minor": 5
}
