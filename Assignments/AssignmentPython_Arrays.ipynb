{
 "cells": [
  {
   "cell_type": "code",
   "execution_count": 1,
   "id": "e241bd93-d46c-433a-9011-35f3fc979677",
   "metadata": {},
   "outputs": [
    {
     "name": "stdout",
     "output_type": "stream",
     "text": [
      "True\n"
     ]
    }
   ],
   "source": [
    "def contains_duplicates(arr):\n",
    "    return len(set(arr)) != len(arr)\n",
    "\n",
    "arr = [1, 2, 4, 2, 5, 9]\n",
    "output = contains_duplicates(arr)\n",
    "print(output) "
   ]
  },
  {
   "cell_type": "code",
   "execution_count": 18,
   "id": "8e03645f-aeda-4656-bdfe-1f29771b3d6f",
   "metadata": {},
   "outputs": [
    {
     "name": "stdout",
     "output_type": "stream",
     "text": [
      "[4, 5, 6, 7, 1, 2, 3]\n"
     ]
    }
   ],
   "source": [
    "def rotate_array(arr, k):\n",
    "    k = k % len(arr)\n",
    "    arr[:]= arr[-k:]+arr[:-k]\n",
    "\n",
    "n=len(arr)\n",
    "k=11\n",
    "arr = [1, 2, 3, 4, 5, 6, 7]\n",
    "rotate_array(arr, k)\n",
    "print(arr) "
   ]
  },
  {
   "cell_type": "code",
   "execution_count": 8,
   "id": "b6d37668-96b8-490d-b4c4-fe67abbb63e6",
   "metadata": {},
   "outputs": [
    {
     "name": "stdout",
     "output_type": "stream",
     "text": [
      "[12, 9, 7, 5, 4, 2]\n"
     ]
    }
   ],
   "source": [
    "def reverse_array_in_place(arr):\n",
    "    arr.reverse()\n",
    "\n",
    "arr = [2, 4, 5, 7, 9, 12]\n",
    "reverse_array_in_place(arr)\n",
    "print(arr) "
   ]
  },
  {
   "cell_type": "code",
   "execution_count": 5,
   "id": "2ffe80d2-f4d4-414b-816c-a6010b477edd",
   "metadata": {},
   "outputs": [
    {
     "name": "stdout",
     "output_type": "stream",
     "text": [
      "20\n"
     ]
    }
   ],
   "source": [
    "def find_max_element(arr):\n",
    "    return max(arr)\n",
    "\n",
    "arr = [10, 5, 20, 8, 15]\n",
    "output = find_max_element(arr)\n",
    "print(output) \n"
   ]
  },
  {
   "cell_type": "code",
   "execution_count": 6,
   "id": "6054ddcd-67ee-4b15-bb55-c8bbc21aedce",
   "metadata": {},
   "outputs": [
    {
     "name": "stdout",
     "output_type": "stream",
     "text": [
      "[1, 2, 3, 4, 5]\n"
     ]
    }
   ],
   "source": [
    "def remove_duplicates(arr):\n",
    "    unique_arr = []\n",
    "    for num in arr:\n",
    "        if num not in unique_arr:\n",
    "            unique_arr.append(num)\n",
    "    arr[:] = unique_arr\n",
    "\n",
    "arr = [1, 1, 2, 2, 2, 3, 3, 4, 4, 4, 5, 5]\n",
    "remove_duplicates(arr)\n",
    "print(arr) \n"
   ]
  },
  {
   "cell_type": "code",
   "execution_count": null,
   "id": "bf989abc-e10a-402f-ae01-9b0ddf9627ba",
   "metadata": {},
   "outputs": [],
   "source": []
  }
 ],
 "metadata": {
  "kernelspec": {
   "display_name": "Python 3 (ipykernel)",
   "language": "python",
   "name": "python3"
  },
  "language_info": {
   "codemirror_mode": {
    "name": "ipython",
    "version": 3
   },
   "file_extension": ".py",
   "mimetype": "text/x-python",
   "name": "python",
   "nbconvert_exporter": "python",
   "pygments_lexer": "ipython3",
   "version": "3.10.8"
  }
 },
 "nbformat": 4,
 "nbformat_minor": 5
}
