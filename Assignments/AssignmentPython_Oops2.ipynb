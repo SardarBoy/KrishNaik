{
 "cells": [
  {
   "cell_type": "code",
   "execution_count": 1,
   "id": "5ee48b99-09b4-4580-8261-3b8180a11249",
   "metadata": {},
   "outputs": [],
   "source": [
    "class MyClass:\n",
    "    def __init__(self, arg1, arg2):\n",
    "        self.attribute1 = arg1\n",
    "        self.attribute2 = arg2\n",
    "\n",
    "# Usage:\n",
    "obj = MyClass(42, \"Hello\")\n"
   ]
  },
  {
   "cell_type": "code",
   "execution_count": 2,
   "id": "64d06ef0-5f13-4a24-8339-e46a00232dcc",
   "metadata": {},
   "outputs": [],
   "source": [
    "class Person:\n",
    "    def __init__(self, name, age):\n",
    "        self.name = name\n",
    "        self.age = age\n",
    "\n",
    "# Usage:\n",
    "person = Person(\"John\", 30)\n"
   ]
  },
  {
   "cell_type": "code",
   "execution_count": 4,
   "id": "98edaade-91b8-4fd0-b5e3-35c424e330dc",
   "metadata": {},
   "outputs": [
    {
     "name": "stdout",
     "output_type": "stream",
     "text": [
      "Alice\n"
     ]
    }
   ],
   "source": [
    "class Person:\n",
    "    def __init__(self, name, age):\n",
    "        self.name = name\n",
    "        self.age = age\n",
    "\n",
    "person = Person(\"Alice\", 25)\n",
    "print(person.name)  # Accessing instance variable using self\n"
   ]
  },
  {
   "cell_type": "code",
   "execution_count": 5,
   "id": "8ab7ddba-8f28-456c-8c0a-690af7a93573",
   "metadata": {},
   "outputs": [
    {
     "name": "stdout",
     "output_type": "stream",
     "text": [
      "Area of the rectangle: 20\n"
     ]
    }
   ],
   "source": [
    "class Rectangle:\n",
    "    def __init__(self, width, height):\n",
    "        self.width = width\n",
    "        self.height = height\n",
    "\n",
    "    def calculate_area(self):\n",
    "        return self.width * self.height\n",
    "\n",
    "# Usage:\n",
    "rectangle = Rectangle(4, 5)\n",
    "area = rectangle.calculate_area()\n",
    "print(f\"Area of the rectangle: {area}\")\n"
   ]
  },
  {
   "cell_type": "code",
   "execution_count": 6,
   "id": "fd1b0e0c-1915-473e-9fc3-4aff8ea9d640",
   "metadata": {},
   "outputs": [],
   "source": [
    "class MyClass:\n",
    "    def __init__(self, arg1=None, arg2=None):\n",
    "        if arg1 is not None and arg2 is not None:\n",
    "            # Parameterized constructor\n",
    "            self.attribute1 = arg1\n",
    "            self.attribute2 = arg2\n",
    "        else:\n",
    "            # Default constructor\n",
    "            self.attribute1 = \"default_value1\"\n",
    "            self.attribute2 = \"default_value2\"\n",
    "\n",
    "# Usage:\n",
    "obj1 = MyClass()             # Calls the default constructor\n",
    "obj2 = MyClass(\"Value1\", 42)  # Calls the parameterized constructor\n"
   ]
  },
  {
   "cell_type": "code",
   "execution_count": 7,
   "id": "95ad7590-83b9-42b9-88f2-86e27e8299d3",
   "metadata": {},
   "outputs": [
    {
     "name": "stdout",
     "output_type": "stream",
     "text": [
      "Alice\n",
      "25\n"
     ]
    }
   ],
   "source": [
    "class Parent:\n",
    "    def __init__(self, name):\n",
    "        self.name = name\n",
    "\n",
    "class Child(Parent):\n",
    "    def __init__(self, name, age):\n",
    "        super().__init__(name)  # Call the constructor of the parent class\n",
    "        self.age = age\n",
    "\n",
    "# Usage:\n",
    "child = Child(\"Alice\", 25)\n",
    "print(child.name)  # Accesses the name attribute from the Parent class\n",
    "print(child.age)\n"
   ]
  },
  {
   "cell_type": "code",
   "execution_count": 8,
   "id": "8e2ec7be-ac8c-4032-9bc0-202008c3052d",
   "metadata": {},
   "outputs": [
    {
     "name": "stdout",
     "output_type": "stream",
     "text": [
      "Title: The Great Gatsby\n",
      "Author: F. Scott Fitzgerald\n",
      "Published Year: 1925\n"
     ]
    }
   ],
   "source": [
    "class Book:\n",
    "    def __init__(self, title, author, published_year):\n",
    "        self.title = title\n",
    "        self.author = author\n",
    "        self.published_year = published_year\n",
    "\n",
    "    def display_details(self):\n",
    "        print(f\"Title: {self.title}\")\n",
    "        print(f\"Author: {self.author}\")\n",
    "        print(f\"Published Year: {self.published_year}\")\n",
    "\n",
    "# Usage:\n",
    "book = Book(\"The Great Gatsby\", \"F. Scott Fitzgerald\", 1925)\n",
    "book.display_details()\n"
   ]
  },
  {
   "cell_type": "code",
   "execution_count": null,
   "id": "de5cdd90-f4a2-4db5-afe0-55c57b85af79",
   "metadata": {},
   "outputs": [],
   "source": []
  }
 ],
 "metadata": {
  "kernelspec": {
   "display_name": "Python 3 (ipykernel)",
   "language": "python",
   "name": "python3"
  },
  "language_info": {
   "codemirror_mode": {
    "name": "ipython",
    "version": 3
   },
   "file_extension": ".py",
   "mimetype": "text/x-python",
   "name": "python",
   "nbconvert_exporter": "python",
   "pygments_lexer": "ipython3",
   "version": "3.10.8"
  }
 },
 "nbformat": 4,
 "nbformat_minor": 5
}
