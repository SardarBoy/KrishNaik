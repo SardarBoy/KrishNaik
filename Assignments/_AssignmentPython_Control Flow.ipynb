{
 "cells": [
  {
   "cell_type": "code",
   "execution_count": 14,
   "id": "935b6cb8-c098-452f-a7fa-1d318f31e129",
   "metadata": {},
   "outputs": [
    {
     "name": "stdin",
     "output_type": "stream",
     "text": [
      "Enter number  33\n"
     ]
    },
    {
     "name": "stdout",
     "output_type": "stream",
     "text": [
      "Positive\n"
     ]
    }
   ],
   "source": [
    "num = float(input(\"Enter number \"))\n",
    "if num > 0:\n",
    "    print(\"Positive\")\n",
    "elif num < 0:\n",
    "    print(\"Negative\")\n",
    "else:\n",
    "    print(\"Zero\")\n"
   ]
  },
  {
   "cell_type": "code",
   "execution_count": 15,
   "id": "0b2a948a-01fc-4337-bf2e-c359e72e8de2",
   "metadata": {},
   "outputs": [
    {
     "name": "stdin",
     "output_type": "stream",
     "text": [
      "Enter age  32\n"
     ]
    },
    {
     "name": "stdout",
     "output_type": "stream",
     "text": [
      "Eligible to vote\n"
     ]
    }
   ],
   "source": [
    "age = int(input(\"Enter age \"))\n",
    "if age >= 18:\n",
    "    print(\"Eligible to vote\")\n",
    "else:\n",
    "    print(\"Not eligible to vote\")\n"
   ]
  },
  {
   "cell_type": "code",
   "execution_count": 3,
   "id": "32214c86-7617-4d59-b223-ef4ca6a85657",
   "metadata": {},
   "outputs": [
    {
     "name": "stdin",
     "output_type": "stream",
     "text": [
      "First number 12\n",
      "Second number  14\n"
     ]
    },
    {
     "name": "stdout",
     "output_type": "stream",
     "text": [
      "Maximum: 14.0\n"
     ]
    }
   ],
   "source": [
    "num1 = float(input(\"First number\"))\n",
    "num2 = float(input(\"Second number \"))\n",
    "if num1 > num2:\n",
    "    print(\"Maximum:\", num1)\n",
    "else:\n",
    "    print(\"Maximum:\", num2)\n"
   ]
  },
  {
   "cell_type": "code",
   "execution_count": 18,
   "id": "d6e27fb6-1edc-4a6f-b104-43c1618122bf",
   "metadata": {},
   "outputs": [
    {
     "name": "stdin",
     "output_type": "stream",
     "text": [
      "Enter year  1999\n"
     ]
    },
    {
     "name": "stdout",
     "output_type": "stream",
     "text": [
      "Not leap year\n"
     ]
    }
   ],
   "source": [
    "year = int(input(\"Enter year \"))\n",
    "if (year % 4 == 0 and year % 100 != 0) or (year % 400 == 0):\n",
    "    print(\"Leap year\")\n",
    "else:\n",
    "    print(\"Not leap year\")\n"
   ]
  },
  {
   "cell_type": "code",
   "execution_count": 17,
   "id": "d3a044ef-1d00-4523-a256-fbd6b9c2bc0e",
   "metadata": {},
   "outputs": [
    {
     "name": "stdin",
     "output_type": "stream",
     "text": [
      "Enter character A\n"
     ]
    },
    {
     "name": "stdout",
     "output_type": "stream",
     "text": [
      "Vowel\n"
     ]
    }
   ],
   "source": [
    "char = input(\"Enter character\")\n",
    "if char in 'AEIOUYaeiou':\n",
    "    print(\"Vowel\")\n",
    "else:\n",
    "    print(\"Consonant\")\n"
   ]
  },
  {
   "cell_type": "code",
   "execution_count": 19,
   "id": "7dcd637c-9646-4c59-89a0-c94497052c86",
   "metadata": {},
   "outputs": [
    {
     "name": "stdin",
     "output_type": "stream",
     "text": [
      "Enter number 123\n"
     ]
    },
    {
     "name": "stdout",
     "output_type": "stream",
     "text": [
      "Odd\n"
     ]
    }
   ],
   "source": [
    "num = int(input(\"Enter number\"))\n",
    "if num % 2 == 0:\n",
    "    print(\"Even\")\n",
    "else:\n",
    "    print(\"Odd\")\n"
   ]
  },
  {
   "cell_type": "code",
   "execution_count": 20,
   "id": "173e2043-8725-4dd6-b4de-81df3ae71b4b",
   "metadata": {},
   "outputs": [
    {
     "name": "stdin",
     "output_type": "stream",
     "text": [
      "Enter number  -2345\n"
     ]
    },
    {
     "name": "stdout",
     "output_type": "stream",
     "text": [
      "Absolute value: 2345.0\n"
     ]
    }
   ],
   "source": [
    "num = float(input(\"Enter number \"))\n",
    "if num < 0:\n",
    "    absolute_value = -num\n",
    "else:\n",
    "    absolute_value = num\n",
    "print(\"Absolute value:\", absolute_value)\n"
   ]
  },
  {
   "cell_type": "code",
   "execution_count": 21,
   "id": "15ff084e-0c3d-4541-b321-b2b1eeeb7cc0",
   "metadata": {},
   "outputs": [
    {
     "name": "stdin",
     "output_type": "stream",
     "text": [
      "First number  2\n",
      "Second number  4\n",
      "Third number  56\n"
     ]
    },
    {
     "name": "stdout",
     "output_type": "stream",
     "text": [
      "Largest 56.0\n"
     ]
    }
   ],
   "source": [
    "num1 = float(input(\"First number \"))\n",
    "num2 = float(input(\"Second number \"))\n",
    "num3 = float(input(\"Third number \"))\n",
    "if num1 >= num2 and num1 >= num3:\n",
    "    print(\"Largest\", num1)\n",
    "elif num2 >= num1 and num2 >= num3:\n",
    "    print(\"Largest\", num2)\n",
    "else:\n",
    "    print(\"Largest\", num3)\n"
   ]
  },
  {
   "cell_type": "code",
   "execution_count": 12,
   "id": "565856a7-d5e0-4c52-8877-fc78668c6f17",
   "metadata": {},
   "outputs": [
    {
     "name": "stdin",
     "output_type": "stream",
     "text": [
      "String abca\n"
     ]
    },
    {
     "name": "stdout",
     "output_type": "stream",
     "text": [
      "Not a palindrome\n"
     ]
    }
   ],
   "source": [
    "string = input(\"String\")\n",
    "if string == string[::-1]:\n",
    "    print(\"Palindrome\")\n",
    "else:\n",
    "    print(\"Not a palindrome\")\n"
   ]
  },
  {
   "cell_type": "code",
   "execution_count": 22,
   "id": "b57c5d63-1da3-4534-ae51-bacd50bbd3d1",
   "metadata": {},
   "outputs": [
    {
     "name": "stdin",
     "output_type": "stream",
     "text": [
      "Enter marks  91\n"
     ]
    },
    {
     "name": "stdout",
     "output_type": "stream",
     "text": [
      "A\n"
     ]
    }
   ],
   "source": [
    "marks = float(input(\"Enter marks \"))\n",
    "if 80 <= marks <= 100:\n",
    "    print(\"A\")\n",
    "elif 70 <= marks < 80:\n",
    "    print(\"B\")\n",
    "elif 60 <= marks < 70:\n",
    "    print(\"C\")\n",
    "elif 50 <= marks < 60:\n",
    "    print(\"D\")\n",
    "else:\n",
    "    print(\"F\")\n"
   ]
  },
  {
   "cell_type": "code",
   "execution_count": null,
   "id": "7a0f0cbe-6d30-4ad3-8f81-0992ed33fccc",
   "metadata": {},
   "outputs": [],
   "source": []
  }
 ],
 "metadata": {
  "kernelspec": {
   "display_name": "Python 3 (ipykernel)",
   "language": "python",
   "name": "python3"
  },
  "language_info": {
   "codemirror_mode": {
    "name": "ipython",
    "version": 3
   },
   "file_extension": ".py",
   "mimetype": "text/x-python",
   "name": "python",
   "nbconvert_exporter": "python",
   "pygments_lexer": "ipython3",
   "version": "3.10.8"
  }
 },
 "nbformat": 4,
 "nbformat_minor": 5
}
